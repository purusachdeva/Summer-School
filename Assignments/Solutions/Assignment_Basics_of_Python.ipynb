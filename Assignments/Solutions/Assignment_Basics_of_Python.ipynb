{
  "nbformat": 4,
  "nbformat_minor": 0,
  "metadata": {
    "colab": {
      "provenance": []
    },
    "kernelspec": {
      "name": "python3",
      "display_name": "Python 3"
    },
    "language_info": {
      "name": "python"
    }
  },
  "cells": [
    {
      "cell_type": "markdown",
      "source": [
        "# **Assignment 1 (Basics of Python)**"
      ],
      "metadata": {
        "id": "pQODgwU3Xhe4"
      }
    },
    {
      "cell_type": "markdown",
      "source": [
        "---\n",
        "**Question 1**\n",
        "---\n",
        "---"
      ],
      "metadata": {
        "id": "e_k5IJiqYAPk"
      }
    },
    {
      "cell_type": "code",
      "source": [
        "L = [11, 12, 13, 14]"
      ],
      "metadata": {
        "id": "O9zap8FhYHqa"
      },
      "execution_count": null,
      "outputs": []
    },
    {
      "cell_type": "code",
      "source": [
        "#(i)\n",
        "\n",
        "L.append(50)\n",
        "L.append(60)\n",
        "L"
      ],
      "metadata": {
        "colab": {
          "base_uri": "https://localhost:8080/"
        },
        "id": "KWwg2tENYU4z",
        "outputId": "c7e1e7c1-23c4-48b2-db35-65318c285dcf"
      },
      "execution_count": null,
      "outputs": [
        {
          "output_type": "execute_result",
          "data": {
            "text/plain": [
              "[11, 12, 13, 14, 50, 60]"
            ]
          },
          "metadata": {},
          "execution_count": 19
        }
      ]
    },
    {
      "cell_type": "code",
      "source": [
        "#(ii)\n",
        "\n",
        "L.remove(11)\n",
        "L.remove(13)\n",
        "L"
      ],
      "metadata": {
        "colab": {
          "base_uri": "https://localhost:8080/"
        },
        "id": "V3jnclwKYuKR",
        "outputId": "038ca49a-8aa7-4af7-c552-1debf8e443e0"
      },
      "execution_count": null,
      "outputs": [
        {
          "output_type": "execute_result",
          "data": {
            "text/plain": [
              "[12, 14, 50, 60]"
            ]
          },
          "metadata": {},
          "execution_count": 20
        }
      ]
    },
    {
      "cell_type": "code",
      "source": [
        "#(iii)\n",
        "\n",
        "L.sort()\n",
        "L"
      ],
      "metadata": {
        "colab": {
          "base_uri": "https://localhost:8080/"
        },
        "id": "rthr3IjIZEhk",
        "outputId": "e9c5a68e-620b-46a9-c272-6b5de97f1f62"
      },
      "execution_count": null,
      "outputs": [
        {
          "output_type": "execute_result",
          "data": {
            "text/plain": [
              "[12, 14, 50, 60]"
            ]
          },
          "metadata": {},
          "execution_count": 21
        }
      ]
    },
    {
      "cell_type": "code",
      "source": [
        "#(iv)\n",
        "\n",
        "L.sort(reverse = True)\n",
        "L"
      ],
      "metadata": {
        "colab": {
          "base_uri": "https://localhost:8080/"
        },
        "id": "kvJlvj39Zbwj",
        "outputId": "1407ea28-3437-457f-8b40-38f30fc2af67"
      },
      "execution_count": null,
      "outputs": [
        {
          "output_type": "execute_result",
          "data": {
            "text/plain": [
              "[60, 50, 14, 12]"
            ]
          },
          "metadata": {},
          "execution_count": 22
        }
      ]
    },
    {
      "cell_type": "code",
      "source": [
        "#(v)\n",
        "\n",
        "try:\n",
        "  L.index(13)\n",
        "except:\n",
        "  print(\"13 Not Present\")"
      ],
      "metadata": {
        "colab": {
          "base_uri": "https://localhost:8080/"
        },
        "id": "PzHkivccZw0g",
        "outputId": "d6738ce0-9286-418a-c594-6382e6f0b058"
      },
      "execution_count": null,
      "outputs": [
        {
          "output_type": "stream",
          "name": "stdout",
          "text": [
            "13 Not Present\n"
          ]
        }
      ]
    },
    {
      "cell_type": "code",
      "source": [
        "#(vi)\n",
        "\n",
        "len(L)"
      ],
      "metadata": {
        "colab": {
          "base_uri": "https://localhost:8080/"
        },
        "id": "e9baeElCaL2l",
        "outputId": "577b65ce-2698-4858-fe7a-d7946770df64"
      },
      "execution_count": null,
      "outputs": [
        {
          "output_type": "execute_result",
          "data": {
            "text/plain": [
              "4"
            ]
          },
          "metadata": {},
          "execution_count": 24
        }
      ]
    },
    {
      "cell_type": "code",
      "source": [
        "#(vii)\n",
        "\n",
        "sum = 0\n",
        "\n",
        "for i in L:\n",
        "  sum += i\n",
        "\n",
        "sum"
      ],
      "metadata": {
        "colab": {
          "base_uri": "https://localhost:8080/"
        },
        "id": "5MSlGSzeadZI",
        "outputId": "10a13eed-3a54-4729-d93a-80b12f1e3ac4"
      },
      "execution_count": null,
      "outputs": [
        {
          "output_type": "execute_result",
          "data": {
            "text/plain": [
              "136"
            ]
          },
          "metadata": {},
          "execution_count": 25
        }
      ]
    },
    {
      "cell_type": "code",
      "source": [
        "#(viii)\n",
        "\n",
        "sum = 0\n",
        "for i in L:\n",
        "  if(i % 2 != 0):\n",
        "    sum += i\n",
        "\n",
        "sum"
      ],
      "metadata": {
        "colab": {
          "base_uri": "https://localhost:8080/"
        },
        "id": "780nEVQvaonM",
        "outputId": "07ce3e0f-c585-4885-e142-ca154d291a1f"
      },
      "execution_count": null,
      "outputs": [
        {
          "output_type": "execute_result",
          "data": {
            "text/plain": [
              "0"
            ]
          },
          "metadata": {},
          "execution_count": 26
        }
      ]
    },
    {
      "cell_type": "code",
      "source": [
        "#(ix)\n",
        "\n",
        "sum = 0\n",
        "\n",
        "for i in L:\n",
        "  if(i % 2 == 0):\n",
        "    sum += i\n",
        "\n",
        "sum"
      ],
      "metadata": {
        "colab": {
          "base_uri": "https://localhost:8080/"
        },
        "id": "npZfX4gja5GG",
        "outputId": "046d4362-8820-4b89-cba3-6fac443bc749"
      },
      "execution_count": null,
      "outputs": [
        {
          "output_type": "execute_result",
          "data": {
            "text/plain": [
              "136"
            ]
          },
          "metadata": {},
          "execution_count": 27
        }
      ]
    },
    {
      "cell_type": "code",
      "source": [
        "#(x)\n",
        "\n",
        "sum = 0\n",
        "\n",
        "for i in L:\n",
        "  prime = True\n",
        "  for j in range(2, i - 1):\n",
        "    if(i%j == 0):\n",
        "      prime = False\n",
        "      break\n",
        "  \n",
        "  if(prime):\n",
        "    sum += i\n",
        "\n",
        "  \n",
        "sum  "
      ],
      "metadata": {
        "colab": {
          "base_uri": "https://localhost:8080/"
        },
        "id": "60kK-tHubPxk",
        "outputId": "f8570f84-fcff-4fa1-a5b4-f7d98e29e4b6"
      },
      "execution_count": null,
      "outputs": [
        {
          "output_type": "execute_result",
          "data": {
            "text/plain": [
              "0"
            ]
          },
          "metadata": {},
          "execution_count": 28
        }
      ]
    },
    {
      "cell_type": "code",
      "source": [
        "#(xi)\n",
        "\n",
        "L.clear()\n",
        "L"
      ],
      "metadata": {
        "colab": {
          "base_uri": "https://localhost:8080/"
        },
        "id": "_mSZd0AEcXn1",
        "outputId": "5dbb15ad-de88-4f11-8153-b43750332481"
      },
      "execution_count": null,
      "outputs": [
        {
          "output_type": "execute_result",
          "data": {
            "text/plain": [
              "[]"
            ]
          },
          "metadata": {},
          "execution_count": 29
        }
      ]
    },
    {
      "cell_type": "code",
      "source": [
        "#(xii)\n",
        "\n",
        "del(L)"
      ],
      "metadata": {
        "id": "pudrcYF3c9Kl"
      },
      "execution_count": null,
      "outputs": []
    },
    {
      "cell_type": "markdown",
      "source": [
        "---\n",
        "**Question 2**\n",
        "---\n",
        "---"
      ],
      "metadata": {
        "id": "fEMYQafNdM2L"
      }
    },
    {
      "cell_type": "code",
      "source": [
        "D = {\n",
        "    1 : 5.6,\n",
        "     2 : 7.8,\n",
        "     3 : 6.6,\n",
        "     4 : 8.7,\n",
        "     5 : 7.7\n",
        "    }"
      ],
      "metadata": {
        "id": "rbqkKB3PddY9"
      },
      "execution_count": null,
      "outputs": []
    },
    {
      "cell_type": "code",
      "source": [
        "#(i)\n",
        "\n",
        "D.update({8 : 8.8})\n",
        "D"
      ],
      "metadata": {
        "id": "_nXAOphMeCiV",
        "colab": {
          "base_uri": "https://localhost:8080/"
        },
        "outputId": "662f27c2-1100-49bb-8e02-b3408c1d3d4f"
      },
      "execution_count": null,
      "outputs": [
        {
          "output_type": "execute_result",
          "data": {
            "text/plain": [
              "{1: 5.6, 2: 7.8, 3: 6.6, 4: 8.7, 5: 7.7, 8: 8.8}"
            ]
          },
          "metadata": {},
          "execution_count": 32
        }
      ]
    },
    {
      "cell_type": "code",
      "source": [
        "#(ii)\n",
        "\n",
        "D.pop(2)\n",
        "D"
      ],
      "metadata": {
        "id": "oHVe97_gOF5a",
        "colab": {
          "base_uri": "https://localhost:8080/"
        },
        "outputId": "cb2473f7-5860-4490-87a8-e14bef9cd02d"
      },
      "execution_count": null,
      "outputs": [
        {
          "output_type": "execute_result",
          "data": {
            "text/plain": [
              "{1: 5.6, 3: 6.6, 4: 8.7, 5: 7.7, 8: 8.8}"
            ]
          },
          "metadata": {},
          "execution_count": 33
        }
      ]
    },
    {
      "cell_type": "code",
      "source": [
        "#(iii)\n",
        "\n",
        "if 5 in D:\n",
        "  print(\"Present\")\n",
        "else:\n",
        "  print(\"Not Present\")"
      ],
      "metadata": {
        "colab": {
          "base_uri": "https://localhost:8080/"
        },
        "id": "UgztOWITPnOR",
        "outputId": "113dbc7b-20ba-4e86-bb2c-7277deb70c0b"
      },
      "execution_count": null,
      "outputs": [
        {
          "output_type": "stream",
          "name": "stdout",
          "text": [
            "Present\n"
          ]
        }
      ]
    },
    {
      "cell_type": "code",
      "source": [
        "#(iv)\n",
        "\n",
        "len(D)"
      ],
      "metadata": {
        "colab": {
          "base_uri": "https://localhost:8080/"
        },
        "id": "VVtjo3GjP_b2",
        "outputId": "47d1fd73-d9b8-471b-a31c-c1cd3c7d8764"
      },
      "execution_count": null,
      "outputs": [
        {
          "output_type": "execute_result",
          "data": {
            "text/plain": [
              "5"
            ]
          },
          "metadata": {},
          "execution_count": 35
        }
      ]
    },
    {
      "cell_type": "code",
      "source": [
        "#(v)\n",
        "\n",
        "sum = 0\n",
        "\n",
        "for i in D:\n",
        "  sum += D[i]\n",
        "\n",
        "sum"
      ],
      "metadata": {
        "colab": {
          "base_uri": "https://localhost:8080/"
        },
        "id": "IVl4XLCOQJHr",
        "outputId": "0ce95635-152b-4209-c104-f4e30f11b4ed"
      },
      "execution_count": null,
      "outputs": [
        {
          "output_type": "execute_result",
          "data": {
            "text/plain": [
              "37.4"
            ]
          },
          "metadata": {},
          "execution_count": 36
        }
      ]
    },
    {
      "cell_type": "code",
      "source": [
        "#(vi)\n",
        "\n",
        "D[3] = 7.1\n",
        "D[3]\n"
      ],
      "metadata": {
        "id": "uk4pywVVQLen",
        "colab": {
          "base_uri": "https://localhost:8080/"
        },
        "outputId": "0d5c5006-9ff9-4c53-8301-ed771568fdb3"
      },
      "execution_count": null,
      "outputs": [
        {
          "output_type": "execute_result",
          "data": {
            "text/plain": [
              "7.1"
            ]
          },
          "metadata": {},
          "execution_count": 37
        }
      ]
    },
    {
      "cell_type": "code",
      "source": [
        "#(vii)\n",
        "\n",
        "D.clear()\n",
        "D"
      ],
      "metadata": {
        "colab": {
          "base_uri": "https://localhost:8080/"
        },
        "id": "FV9GO4jjvryo",
        "outputId": "39863658-cfef-4e63-bd27-12290e0350e1"
      },
      "execution_count": null,
      "outputs": [
        {
          "output_type": "execute_result",
          "data": {
            "text/plain": [
              "{}"
            ]
          },
          "metadata": {},
          "execution_count": 39
        }
      ]
    },
    {
      "cell_type": "markdown",
      "source": [
        "---\n",
        "**Question 3**\n",
        "---\n",
        "---"
      ],
      "metadata": {
        "id": "jMdX7CpFwNBH"
      }
    },
    {
      "cell_type": "code",
      "source": [
        "S1 = [10, 20, 30, 40, 50, 60]\n",
        "S2 = [40, 50, 60, 70, 80, 90]"
      ],
      "metadata": {
        "id": "VWc4ggXvwPcZ"
      },
      "execution_count": null,
      "outputs": []
    },
    {
      "cell_type": "code",
      "source": [
        "#(i)\n",
        "\n",
        "S1.append(55)\n",
        "S1.append(66)\n",
        "S1"
      ],
      "metadata": {
        "colab": {
          "base_uri": "https://localhost:8080/"
        },
        "id": "PdMatK-9woEN",
        "outputId": "e1dea918-fca3-40c6-b57b-52816965d382"
      },
      "execution_count": null,
      "outputs": [
        {
          "output_type": "execute_result",
          "data": {
            "text/plain": [
              "[10, 20, 30, 40, 50, 60, 55, 66]"
            ]
          },
          "metadata": {},
          "execution_count": 44
        }
      ]
    },
    {
      "cell_type": "code",
      "source": [
        "#(ii)\n",
        "\n",
        "S1.remove(10)\n",
        "S1.remove(30)\n",
        "S1"
      ],
      "metadata": {
        "colab": {
          "base_uri": "https://localhost:8080/"
        },
        "id": "vLKlPgzowvPN",
        "outputId": "20003a23-478c-41a5-c425-93d77761b721"
      },
      "execution_count": null,
      "outputs": [
        {
          "output_type": "execute_result",
          "data": {
            "text/plain": [
              "[20, 40, 50, 60, 55, 66]"
            ]
          },
          "metadata": {},
          "execution_count": 46
        }
      ]
    },
    {
      "cell_type": "code",
      "source": [
        "#(iii)\n",
        "\n",
        "if 40 in S1:\n",
        "  print(\"Present\")\n",
        "else:\n",
        "  print(\"Not Present\")"
      ],
      "metadata": {
        "colab": {
          "base_uri": "https://localhost:8080/"
        },
        "id": "3ixSuZv1w5Jn",
        "outputId": "556e07b4-d745-426f-e234-a2f8cf9b8cae"
      },
      "execution_count": null,
      "outputs": [
        {
          "output_type": "stream",
          "name": "stdout",
          "text": [
            "Present\n"
          ]
        }
      ]
    },
    {
      "cell_type": "code",
      "source": [
        "#(v)\n",
        "\n",
        "print(S1)\n",
        "print(S2)\n",
        "\n",
        "list(set(S1) | set(S2))"
      ],
      "metadata": {
        "colab": {
          "base_uri": "https://localhost:8080/"
        },
        "id": "2ic8zq7KxUe1",
        "outputId": "3e1e6b62-7f9e-46ed-ff30-4de16feee1dd"
      },
      "execution_count": null,
      "outputs": [
        {
          "output_type": "stream",
          "name": "stdout",
          "text": [
            "[20, 40, 50, 60, 55, 66]\n",
            "[40, 50, 60, 70, 80, 90]\n"
          ]
        },
        {
          "output_type": "execute_result",
          "data": {
            "text/plain": [
              "[66, 70, 40, 80, 50, 20, 55, 90, 60]"
            ]
          },
          "metadata": {},
          "execution_count": 57
        }
      ]
    },
    {
      "cell_type": "code",
      "source": [
        "#(vi)\n",
        "\n",
        "print(S1)\n",
        "print(S2)\n",
        "\n",
        "list(set(S1) & set(S2))"
      ],
      "metadata": {
        "colab": {
          "base_uri": "https://localhost:8080/"
        },
        "id": "AczI-5AxxVuY",
        "outputId": "98f6bf2d-fa0f-47fc-ecc0-623c5715f345"
      },
      "execution_count": null,
      "outputs": [
        {
          "output_type": "stream",
          "name": "stdout",
          "text": [
            "[20, 40, 50, 60, 55, 66]\n",
            "[40, 50, 60, 70, 80, 90]\n"
          ]
        },
        {
          "output_type": "execute_result",
          "data": {
            "text/plain": [
              "[40, 50, 60]"
            ]
          },
          "metadata": {},
          "execution_count": 58
        }
      ]
    },
    {
      "cell_type": "code",
      "source": [
        "#(vi)\n",
        "\n",
        "list(set(S1) - set(S2))"
      ],
      "metadata": {
        "colab": {
          "base_uri": "https://localhost:8080/"
        },
        "id": "y9iwWMrsxnIq",
        "outputId": "3a323062-4e8f-4ba4-a9ec-446a8f9366cf"
      },
      "execution_count": null,
      "outputs": [
        {
          "output_type": "execute_result",
          "data": {
            "text/plain": [
              "[66, 20, 55]"
            ]
          },
          "metadata": {},
          "execution_count": 59
        }
      ]
    },
    {
      "cell_type": "markdown",
      "source": [
        "---\n",
        "# **Question 4**\n",
        "---\n"
      ],
      "metadata": {
        "id": "s037C9puzg-L"
      }
    },
    {
      "cell_type": "code",
      "source": [
        "#(i)\n",
        "\n",
        "import string as s\n",
        "import random as r\n",
        "\n",
        "for i in range(100):\n",
        "  print(r.sample(s.ascii_letters,r.randint(6,8)))"
      ],
      "metadata": {
        "id": "XxzMOo_Az2KO",
        "colab": {
          "base_uri": "https://localhost:8080/"
        },
        "outputId": "856181e4-21d6-4ee2-cc4b-1ae3e2f618da"
      },
      "execution_count": 62,
      "outputs": [
        {
          "output_type": "stream",
          "name": "stdout",
          "text": [
            "['x', 'U', 'o', 'w', 'J', 'D']\n",
            "['N', 'A', 'R', 'j', 'J', 'K', 'L']\n",
            "['K', 'w', 'S', 'n', 'W', 'c']\n",
            "['G', 'w', 'R', 'D', 'g', 'K', 'i', 'N']\n",
            "['f', 'O', 'z', 't', 'V', 's', 'B']\n",
            "['M', 'i', 'Z', 'r', 'N', 'y', 'E']\n",
            "['I', 'o', 'M', 'x', 'O', 'n', 'p']\n",
            "['N', 'm', 'X', 'q', 'K', 'O']\n",
            "['V', 'W', 'K', 'x', 'h', 'J', 'w', 'g']\n",
            "['T', 'r', 'C', 'j', 'M', 'i']\n",
            "['X', 'w', 'n', 'f', 'N', 'F', 'z']\n",
            "['y', 'I', 'n', 'p', 'g', 'N', 'C', 'L']\n",
            "['O', 'C', 'B', 'b', 'q', 'V', 'd', 'E']\n",
            "['J', 'g', 'K', 'T', 'L', 'B']\n",
            "['v', 'y', 'r', 'P', 'W', 'u', 'p', 'l']\n",
            "['h', 'g', 'w', 'U', 'u', 'e']\n",
            "['t', 'm', 'i', 'K', 'Z', 'L', 'Y', 'T']\n",
            "['J', 'm', 'U', 't', 'l', 'S', 'j']\n",
            "['f', 'a', 'V', 'J', 'R', 'w', 'z', 'l']\n",
            "['y', 'Z', 'U', 'l', 'L', 'C', 'D']\n",
            "['a', 'D', 'e', 'r', 'J', 'f']\n",
            "['j', 'Q', 'N', 'F', 't', 'h']\n",
            "['f', 'u', 'j', 'o', 'v', 'F', 'S']\n",
            "['f', 'N', 'R', 'k', 'Y', 'U', 'd']\n",
            "['p', 'W', 'J', 'H', 'E', 'a']\n",
            "['m', 'j', 'K', 'U', 's', 'L', 'F']\n",
            "['K', 's', 'C', 'c', 'p', 'Y', 'O', 'g']\n",
            "['A', 'B', 'C', 'x', 'h', 'u']\n",
            "['C', 'Z', 't', 'a', 'r', 'y', 'j', 'p']\n",
            "['Y', 'u', 'K', 'c', 'g', 'f', 'D', 'b']\n",
            "['s', 'P', 'm', 'I', 'o', 'z']\n",
            "['h', 'n', 'A', 'Z', 'r', 'N', 'w', 'U']\n",
            "['m', 'c', 'H', 'b', 'O', 'T', 'Q', 'S']\n",
            "['Z', 's', 't', 'I', 'F', 'b', 'E']\n",
            "['o', 'l', 'g', 'P', 'u', 'v']\n",
            "['T', 'd', 'G', 'y', 'H', 'o', 'S', 'x']\n",
            "['d', 'z', 'u', 's', 'R', 'y']\n",
            "['b', 'J', 'N', 'k', 'R', 'n', 'I', 'E']\n",
            "['O', 'k', 'S', 'W', 'h', 'E', 'H', 'G']\n",
            "['X', 'M', 't', 'Z', 'u', 'v']\n",
            "['O', 'c', 'N', 's', 'w', 'Z', 'P', 'D']\n",
            "['x', 'f', 'g', 'h', 'v', 'o', 'V', 'u']\n",
            "['o', 'H', 'y', 'D', 'k', 'n', 'a']\n",
            "['W', 'y', 'd', 'G', 'c', 'T', 'l']\n",
            "['b', 'p', 'u', 'W', 's', 'M', 'i']\n",
            "['c', 'V', 'x', 'R', 'y', 'w', 'L']\n",
            "['I', 'r', 'j', 'd', 'i', 'V']\n",
            "['u', 'X', 'r', 'b', 'V', 'Q', 'R']\n",
            "['V', 'k', 'T', 'N', 'h', 'i']\n",
            "['d', 'j', 'Z', 't', 'b', 'N', 'y']\n",
            "['C', 'E', 'W', 't', 'D', 'a']\n",
            "['W', 'v', 'L', 'P', 'D', 'z']\n",
            "['j', 't', 'T', 'Y', 'z', 'v', 'a', 'R']\n",
            "['B', 'L', 'm', 'C', 'M', 'w']\n",
            "['J', 'S', 'I', 'n', 'G', 'q', 'X', 'L']\n",
            "['o', 'I', 'F', 'E', 'G', 's', 'u', 'W']\n",
            "['M', 'z', 'o', 'd', 'G', 'J', 'T']\n",
            "['a', 'b', 'Q', 'v', 'g', 'y', 'p']\n",
            "['c', 'I', 'j', 'T', 'C', 'W', 'g']\n",
            "['d', 'N', 'y', 'C', 'L', 'R']\n",
            "['Q', 'u', 'p', 'z', 'q', 'e']\n",
            "['N', 'P', 'm', 'S', 'K', 'G', 'j']\n",
            "['T', 'u', 'k', 'y', 'z', 'K', 'n', 'N']\n",
            "['I', 'A', 'P', 'U', 'h', 'o', 'E']\n",
            "['I', 'X', 'G', 'o', 'w', 'S']\n",
            "['M', 'b', 'o', 'A', 'U', 'f', 'Z']\n",
            "['d', 'g', 'H', 'D', 'j', 't', 'i', 'Z']\n",
            "['D', 'y', 'R', 'f', 'I', 'A', 'T', 'c']\n",
            "['h', 'U', 'Z', 'I', 'M', 'q']\n",
            "['x', 'A', 'h', 'k', 'a', 'P', 'W']\n",
            "['k', 'u', 'd', 'j', 'a', 'p', 'm', 'i']\n",
            "['B', 'w', 'O', 'J', 'S', 'Y', 'b']\n",
            "['t', 'm', 'C', 'P', 'K', 'N']\n",
            "['L', 'J', 'B', 'w', 'a', 'F', 'y']\n",
            "['S', 'p', 'm', 'b', 'V', 'X', 'Y']\n",
            "['k', 'o', 'A', 'c', 'U', 'H', 'f']\n",
            "['d', 'z', 'B', 'F', 'x', 'N', 'O']\n",
            "['u', 'b', 'V', 'l', 'c', 'n', 'd']\n",
            "['z', 'k', 'w', 'E', 'c', 'f', 'a']\n",
            "['T', 'C', 'U', 'Y', 'J', 'Z']\n",
            "['H', 'z', 'r', 'O', 'Y', 'G', 'k']\n",
            "['J', 'N', 'G', 'f', 'Z', 'I']\n",
            "['B', 'T', 'N', 'g', 'a', 'Z', 'I']\n",
            "['I', 'P', 'l', 'M', 'j', 'T', 'i']\n",
            "['E', 'f', 'I', 'a', 'V', 'H', 'x']\n",
            "['u', 'k', 'H', 'f', 'p', 'E', 'R']\n",
            "['E', 'c', 'V', 'M', 'Y', 'A']\n",
            "['S', 'K', 'n', 'q', 'v', 'M', 'm', 'o']\n",
            "['C', 'e', 'S', 'A', 'G', 'P', 'q']\n",
            "['N', 'U', 'q', 'x', 'B', 'O', 'Z']\n",
            "['N', 'T', 'q', 'B', 'j', 'X']\n",
            "['Q', 'A', 'r', 'g', 'H', 'n', 'b', 'M']\n",
            "['w', 'p', 'u', 'T', 'R', 'Y', 't', 'n']\n",
            "['m', 'l', 'e', 'i', 'L', 'f']\n",
            "['l', 'z', 'P', 'V', 'S', 'O', 'U', 'Q']\n",
            "['J', 'u', 'P', 'O', 'Z', 'D', 'C', 'Y']\n",
            "['l', 'q', 'D', 'o', 'x', 'i', 'Z', 'A']\n",
            "['l', 'D', 'G', 'v', 'w', 'I', 'S', 'e']\n",
            "['M', 'z', 's', 'K', 'S', 'Y', 'j', 'R']\n",
            "['X', 'V', 'I', 'f', 'n', 'Q', 'p', 'c']\n"
          ]
        }
      ]
    },
    {
      "cell_type": "code",
      "source": [
        "#(ii)\n",
        "\n",
        "def prime(n):\n",
        "  for i in range(2, n//2 + 1):\n",
        "    if n % i == 0:\n",
        "      return 0\n",
        "    \n",
        "  return 1\n",
        "\n",
        "for i in range(600, 801):\n",
        "  if prime(i):\n",
        "    print(i)"
      ],
      "metadata": {
        "colab": {
          "base_uri": "https://localhost:8080/"
        },
        "id": "jIChGrv-2EYO",
        "outputId": "9f0f0854-bb8a-4f8c-95a8-0eb0ef0748c1"
      },
      "execution_count": 63,
      "outputs": [
        {
          "output_type": "stream",
          "name": "stdout",
          "text": [
            "601\n",
            "607\n",
            "613\n",
            "617\n",
            "619\n",
            "631\n",
            "641\n",
            "643\n",
            "647\n",
            "653\n",
            "659\n",
            "661\n",
            "673\n",
            "677\n",
            "683\n",
            "691\n",
            "701\n",
            "709\n",
            "719\n",
            "727\n",
            "733\n",
            "739\n",
            "743\n",
            "751\n",
            "757\n",
            "761\n",
            "769\n",
            "773\n",
            "787\n",
            "797\n"
          ]
        }
      ]
    },
    {
      "cell_type": "markdown",
      "source": [
        "---\n",
        "# **Question 5**\n",
        "---\n"
      ],
      "metadata": {
        "id": "-unHudqm3Hij"
      }
    },
    {
      "cell_type": "code",
      "source": [
        "#(i)\n",
        "\n",
        "import random as r\n",
        "\n",
        "L1 = [r.randint(10, 30) for i in range(10)]\n",
        "L2 = [r.randint(10, 30) for i in range(10)]\n",
        "\n",
        "print(L1)\n",
        "print(L2)"
      ],
      "metadata": {
        "colab": {
          "base_uri": "https://localhost:8080/"
        },
        "id": "a7LPudwJ3RfE",
        "outputId": "31d57008-fd27-4ee4-d57a-d54812cff765"
      },
      "execution_count": 68,
      "outputs": [
        {
          "output_type": "stream",
          "name": "stdout",
          "text": [
            "[16, 16, 27, 17, 24, 24, 16, 26, 24, 29]\n",
            "[23, 14, 25, 22, 24, 13, 18, 14, 17, 24]\n"
          ]
        }
      ]
    },
    {
      "cell_type": "code",
      "source": [
        "#(i)\n",
        "\n",
        "for i in L1:\n",
        "  if i in L2:\n",
        "    print(i)"
      ],
      "metadata": {
        "colab": {
          "base_uri": "https://localhost:8080/"
        },
        "id": "a9tR6QTP3vZF",
        "outputId": "51afd83a-bac1-4d31-ee65-1be5f6de5c77"
      },
      "execution_count": 75,
      "outputs": [
        {
          "output_type": "stream",
          "name": "stdout",
          "text": [
            "17\n",
            "24\n",
            "24\n",
            "24\n"
          ]
        }
      ]
    },
    {
      "cell_type": "code",
      "source": [
        "#(ii)\n",
        "\n",
        "for i in L1:\n",
        "  if i not in L2:\n",
        "    print(i)\n",
        "  \n",
        "print(\"\\n\")\n",
        "\n",
        "for i in L2:\n",
        "  if i not in L1:\n",
        "    print(i)"
      ],
      "metadata": {
        "colab": {
          "base_uri": "https://localhost:8080/"
        },
        "id": "O3mZ6w995VnK",
        "outputId": "275cf087-ed90-46db-be8d-442ca9d1d59e"
      },
      "execution_count": 79,
      "outputs": [
        {
          "output_type": "stream",
          "name": "stdout",
          "text": [
            "16\n",
            "16\n",
            "27\n",
            "16\n",
            "26\n",
            "29\n",
            "\n",
            "\n",
            "23\n",
            "14\n",
            "25\n",
            "22\n",
            "13\n",
            "18\n",
            "14\n"
          ]
        }
      ]
    },
    {
      "cell_type": "code",
      "source": [
        "#(iii)\n",
        "\n",
        "print(min(L1))\n",
        "print(min(L2))"
      ],
      "metadata": {
        "colab": {
          "base_uri": "https://localhost:8080/"
        },
        "id": "-05UyRGP4Tn9",
        "outputId": "42a0df56-13a1-475d-9ca2-988080f82c82"
      },
      "execution_count": 80,
      "outputs": [
        {
          "output_type": "stream",
          "name": "stdout",
          "text": [
            "16\n",
            "13\n"
          ]
        }
      ]
    },
    {
      "cell_type": "code",
      "source": [
        "#(iv)\n",
        "\n",
        "print(max(L1))\n",
        "print(max(L2))"
      ],
      "metadata": {
        "colab": {
          "base_uri": "https://localhost:8080/"
        },
        "id": "OnyqzQUo4a3F",
        "outputId": "fe57f8f0-6158-4183-f70e-4d7edebc023e"
      },
      "execution_count": 81,
      "outputs": [
        {
          "output_type": "stream",
          "name": "stdout",
          "text": [
            "29\n",
            "25\n"
          ]
        }
      ]
    },
    {
      "cell_type": "code",
      "source": [
        "#(v)\n",
        "\n",
        "import builtins\n",
        "\n",
        "print(builtins.sum(L1))\n",
        "print(builtins.sum(L2))"
      ],
      "metadata": {
        "colab": {
          "base_uri": "https://localhost:8080/"
        },
        "id": "dA9KLKj94eC-",
        "outputId": "6daf3aec-638d-428d-e408-ff716cc94690"
      },
      "execution_count": 89,
      "outputs": [
        {
          "output_type": "stream",
          "name": "stdout",
          "text": [
            "219\n",
            "194\n"
          ]
        }
      ]
    },
    {
      "cell_type": "markdown",
      "source": [
        "---\n",
        "# **Question 6**\n",
        "---"
      ],
      "metadata": {
        "id": "vXg9OcOv4iFR"
      }
    },
    {
      "cell_type": "code",
      "source": [
        "import random as r\n",
        "\n",
        "L1 = [r.randint(100, 900) for i in range(100)]\n",
        "L1"
      ],
      "metadata": {
        "colab": {
          "base_uri": "https://localhost:8080/"
        },
        "id": "BWIP9Jis70qr",
        "outputId": "05a571fd-055f-40dd-c6cd-dc66d3c7a396"
      },
      "execution_count": 90,
      "outputs": [
        {
          "output_type": "execute_result",
          "data": {
            "text/plain": [
              "[227,\n",
              " 219,\n",
              " 391,\n",
              " 365,\n",
              " 269,\n",
              " 679,\n",
              " 144,\n",
              " 167,\n",
              " 550,\n",
              " 331,\n",
              " 503,\n",
              " 322,\n",
              " 579,\n",
              " 184,\n",
              " 485,\n",
              " 438,\n",
              " 686,\n",
              " 526,\n",
              " 232,\n",
              " 752,\n",
              " 743,\n",
              " 410,\n",
              " 900,\n",
              " 266,\n",
              " 616,\n",
              " 799,\n",
              " 495,\n",
              " 422,\n",
              " 394,\n",
              " 788,\n",
              " 168,\n",
              " 520,\n",
              " 830,\n",
              " 282,\n",
              " 427,\n",
              " 804,\n",
              " 636,\n",
              " 380,\n",
              " 706,\n",
              " 302,\n",
              " 570,\n",
              " 399,\n",
              " 325,\n",
              " 566,\n",
              " 667,\n",
              " 742,\n",
              " 257,\n",
              " 211,\n",
              " 581,\n",
              " 721,\n",
              " 786,\n",
              " 329,\n",
              " 679,\n",
              " 297,\n",
              " 830,\n",
              " 546,\n",
              " 692,\n",
              " 810,\n",
              " 322,\n",
              " 520,\n",
              " 371,\n",
              " 167,\n",
              " 814,\n",
              " 259,\n",
              " 423,\n",
              " 314,\n",
              " 865,\n",
              " 767,\n",
              " 371,\n",
              " 769,\n",
              " 773,\n",
              " 197,\n",
              " 748,\n",
              " 818,\n",
              " 738,\n",
              " 793,\n",
              " 646,\n",
              " 576,\n",
              " 141,\n",
              " 409,\n",
              " 255,\n",
              " 880,\n",
              " 401,\n",
              " 412,\n",
              " 585,\n",
              " 449,\n",
              " 511,\n",
              " 643,\n",
              " 666,\n",
              " 485,\n",
              " 731,\n",
              " 136,\n",
              " 419,\n",
              " 852,\n",
              " 688,\n",
              " 246,\n",
              " 541,\n",
              " 586,\n",
              " 594,\n",
              " 830]"
            ]
          },
          "metadata": {},
          "execution_count": 90
        }
      ]
    },
    {
      "cell_type": "code",
      "source": [
        "#(i)\n",
        "\n",
        "count = 0\n",
        "for i in L1:\n",
        "  if i % 2 != 0:\n",
        "    count += 1\n",
        "    print(i)\n",
        "  \n",
        "print(f\"Count of Odd Numbers: {count}\")"
      ],
      "metadata": {
        "colab": {
          "base_uri": "https://localhost:8080/"
        },
        "id": "7jRHyVIR8FYN",
        "outputId": "e43ece60-cb3f-43d4-a456-95b6aa2c8f8d"
      },
      "execution_count": 93,
      "outputs": [
        {
          "output_type": "stream",
          "name": "stdout",
          "text": [
            "227\n",
            "219\n",
            "391\n",
            "365\n",
            "269\n",
            "679\n",
            "167\n",
            "331\n",
            "503\n",
            "579\n",
            "485\n",
            "743\n",
            "799\n",
            "495\n",
            "427\n",
            "399\n",
            "325\n",
            "667\n",
            "257\n",
            "211\n",
            "581\n",
            "721\n",
            "329\n",
            "679\n",
            "297\n",
            "371\n",
            "167\n",
            "259\n",
            "423\n",
            "865\n",
            "767\n",
            "371\n",
            "769\n",
            "773\n",
            "197\n",
            "793\n",
            "141\n",
            "409\n",
            "255\n",
            "401\n",
            "585\n",
            "449\n",
            "511\n",
            "643\n",
            "485\n",
            "731\n",
            "419\n",
            "541\n",
            "Count of Odd Numbers: 48\n"
          ]
        }
      ]
    },
    {
      "cell_type": "code",
      "source": [
        "count = 0\n",
        "\n",
        "for i in L1:\n",
        "  if i % 2 == 0:\n",
        "    print(i)\n",
        "    count += 1\n",
        "\n",
        "print(f\"Count of Even Numbers: {count}\")"
      ],
      "metadata": {
        "colab": {
          "base_uri": "https://localhost:8080/"
        },
        "id": "IUVcIMor8VcZ",
        "outputId": "a9cefd57-51d5-4569-f0c5-7e3baa101be4"
      },
      "execution_count": 92,
      "outputs": [
        {
          "output_type": "stream",
          "name": "stdout",
          "text": [
            "144\n",
            "550\n",
            "322\n",
            "184\n",
            "438\n",
            "686\n",
            "526\n",
            "232\n",
            "752\n",
            "410\n",
            "900\n",
            "266\n",
            "616\n",
            "422\n",
            "394\n",
            "788\n",
            "168\n",
            "520\n",
            "830\n",
            "282\n",
            "804\n",
            "636\n",
            "380\n",
            "706\n",
            "302\n",
            "570\n",
            "566\n",
            "742\n",
            "786\n",
            "830\n",
            "546\n",
            "692\n",
            "810\n",
            "322\n",
            "520\n",
            "814\n",
            "314\n",
            "748\n",
            "818\n",
            "738\n",
            "646\n",
            "576\n",
            "880\n",
            "412\n",
            "666\n",
            "136\n",
            "852\n",
            "688\n",
            "246\n",
            "586\n",
            "594\n",
            "830\n",
            "Count of Even Numbers: 52\n"
          ]
        }
      ]
    },
    {
      "cell_type": "code",
      "source": [
        "#(iii)\n",
        "\n",
        "count = 0\n",
        "\n",
        "for i in L1:\n",
        "  if prime(i):\n",
        "    count += 1\n",
        "    print(i)\n",
        "\n",
        "print(f\"Count of Prime Numbers: {count}\")"
      ],
      "metadata": {
        "colab": {
          "base_uri": "https://localhost:8080/"
        },
        "id": "VjluH-YN8pET",
        "outputId": "9c07d96f-3214-4da3-83e5-7b88354beb2a"
      },
      "execution_count": 94,
      "outputs": [
        {
          "output_type": "stream",
          "name": "stdout",
          "text": [
            "227\n",
            "269\n",
            "167\n",
            "331\n",
            "503\n",
            "743\n",
            "257\n",
            "211\n",
            "167\n",
            "769\n",
            "773\n",
            "197\n",
            "409\n",
            "401\n",
            "449\n",
            "643\n",
            "419\n",
            "541\n",
            "Count of Prime Numbers: 18\n"
          ]
        }
      ]
    },
    {
      "cell_type": "markdown",
      "source": [
        "---\n",
        "# **Question 7**\n",
        "---"
      ],
      "metadata": {
        "id": "4ylgAaE986hx"
      }
    },
    {
      "cell_type": "code",
      "source": [
        "D = {1:\"One\", 2:\"Two\", 3:\"Three\", 4:\"Four\", 5:\"Five\"}\n",
        "\n",
        "# Q7. D is a dictionary defined as D={1.\"One\",2.\" Two\", 3.:! Three\", A:\"Four\", 5:\"Five'}.\n",
        "# WAP to read all the keys and values from dictionary and write to the file in the given below format.\n",
        "# Key1, Valuet Key2, Value?\n",
        "# Key3, Values\n",
        "\n",
        "fp = open('conversion.txt', 'w')\n",
        "\n",
        "for i in D:\n",
        "  fp.write(str(i) + \" \" + D[i] + \"\\n\")\n",
        "\n",
        "fp.close()"
      ],
      "metadata": {
        "id": "sOVsrJc_9Hnx"
      },
      "execution_count": 101,
      "outputs": []
    },
    {
      "cell_type": "markdown",
      "source": [
        "---\n",
        "# **Question 8**\n",
        "---"
      ],
      "metadata": {
        "id": "TWd0rksX_taE"
      }
    },
    {
      "cell_type": "code",
      "source": [
        "L = [\"One\", \"Two\", \"Three\", \"Four\", \"Five\"]\n",
        "\n",
        "fp = open('ques8.txt', 'w')\n",
        "\n",
        "for i in L:\n",
        "  fp.write(i + ',' + str(len(i)) + \"\\n\")\n",
        "\n",
        "fp.close()"
      ],
      "metadata": {
        "id": "UjOYuPcsAtw5"
      },
      "execution_count": 107,
      "outputs": []
    },
    {
      "cell_type": "markdown",
      "source": [
        "---\n",
        "# **Question 9**\n",
        "---"
      ],
      "metadata": {
        "id": "QAkcUgxZBL0r"
      }
    },
    {
      "cell_type": "code",
      "source": [
        "import random as r\n",
        "import string as s\n",
        "\n",
        "fp = open('ques9.txt', 'w')\n",
        "\n",
        "for i in range(100):\n",
        "  fp.write(\"\".join(r.sample(s.ascii_letters,r.randint(10,15))) + \"\\n\")\n",
        "\n",
        "fp.close()"
      ],
      "metadata": {
        "id": "rUhZiM9SBgnw"
      },
      "execution_count": 115,
      "outputs": []
    },
    {
      "cell_type": "markdown",
      "source": [
        "---\n",
        "# **Question 10**\n",
        "---"
      ],
      "metadata": {
        "id": "Rprjn5lrCXCt"
      }
    },
    {
      "cell_type": "code",
      "source": [
        "def prime(n):\n",
        "  for i in range(2, n//2 + 1):\n",
        "    if n % i == 0:\n",
        "      return 0\n",
        "\n",
        "  return 1\n",
        "\n",
        "fp = open('ques10.txt', 'w')\n",
        "\n",
        "for i in range(600, 801):\n",
        "  if prime(i):\n",
        "    fp.write(str(i) + '\\n')\n",
        "\n",
        "fp.close()"
      ],
      "metadata": {
        "id": "Xb_MwrcXDSrF"
      },
      "execution_count": 116,
      "outputs": []
    },
    {
      "cell_type": "markdown",
      "source": [
        "---\n",
        "# **Question 11**\n",
        "---"
      ],
      "metadata": {
        "id": "LIeVCGFlD_tB"
      }
    },
    {
      "cell_type": "code",
      "source": [
        "import time as t\n",
        "\n",
        "start = t.time()\n",
        "\n",
        "print(\"Hello World!\")\n",
        "\n",
        "end = t.time()\n",
        "\n",
        "print(f\"Elapsed Time: {end - start}\")"
      ],
      "metadata": {
        "colab": {
          "base_uri": "https://localhost:8080/"
        },
        "id": "ZzSrcPrJEFRN",
        "outputId": "040efb3e-7a3d-4700-8229-bb3e298950e8"
      },
      "execution_count": 117,
      "outputs": [
        {
          "output_type": "stream",
          "name": "stdout",
          "text": [
            "Hello World!\n",
            "Elapsed Time: 0.0012371540069580078\n"
          ]
        }
      ]
    },
    {
      "cell_type": "markdown",
      "source": [
        "---\n",
        "# **Question 12**\n",
        "---"
      ],
      "metadata": {
        "id": "4SKZ5h0FFUAB"
      }
    },
    {
      "cell_type": "code",
      "source": [
        "import random as r\n",
        "import time as t\n",
        "import matplotlib.pyplot as plt\n",
        "\n",
        "D = {}\n",
        "lengths = [5000, 10000, 15000, 20000, 25000]\n",
        "\n",
        "L1 = [r.randint(0,30000) for i in range(5000)]\n",
        "L2 = [r.randint(0,30000) for i in range(10000)]\n",
        "L3 = [r.randint(0,30000) for i in range(15000)]\n",
        "L4 = [r.randint(0,30000) for i in range(20000)]\n",
        "L5 = [r.randint(0,30000) for i in range(25000)]\n",
        "\n",
        "for i in lengths:\n",
        "  start = t.time()\n",
        "  L1.sort()\n",
        "  end = t.time()\n",
        "\n",
        "  D.update({i : end - start})\n",
        "\n",
        "\n",
        "plt.plot(D.keys(), D.values())\n",
        "print(D)\n",
        "\n"
      ],
      "metadata": {
        "colab": {
          "base_uri": "https://localhost:8080/",
          "height": 468
        },
        "id": "Kg502xr5FX5L",
        "outputId": "53a1b25a-aaac-4ee5-a1d5-66a58638bfe7"
      },
      "execution_count": 130,
      "outputs": [
        {
          "output_type": "stream",
          "name": "stdout",
          "text": [
            "{5000: 0.0009965896606445312, 10000: 4.4345855712890625e-05, 15000: 4.3392181396484375e-05, 20000: 4.744529724121094e-05, 25000: 4.363059997558594e-05}\n"
          ]
        },
        {
          "output_type": "display_data",
          "data": {
            "text/plain": [
              "<Figure size 640x480 with 1 Axes>"
            ],
            "image/png": "[encoded data removed]"
          },
          "metadata": {}
        }
      ]
    },
    {
      "cell_type": "markdown",
      "source": [
        "---\n",
        "# **Question 13**\n",
        "---"
      ],
      "metadata": {
        "id": "o4OuA59WGwOZ"
      }
    },
    {
      "cell_type": "code",
      "source": [
        "from numpy import average\n",
        "import random as r\n",
        "\n",
        "D = {}\n",
        "\n",
        "maxStudent = \"\"\n",
        "minStudent = \"\"\n",
        "\n",
        "for i in range(5):\n",
        "    L = r.sample(range(0,100), 5)\n",
        "    D.update({f\"S{i + 1}\" : L})\n",
        "\n",
        "print(D)\n",
        "\n",
        "maxi = 0\n",
        "for i in D:\n",
        "  if maxi < average(D[i]):\n",
        "    maxi = average(D[i])\n",
        "    maxStudent = i\n",
        "\n",
        "print(f\"Maximum Marks {maxi} acheived by student {maxStudent}\")\n",
        "\n",
        "\n",
        "mini = 100\n",
        "for i in D:\n",
        "  if mini > average(D[i]):\n",
        "    mini = average(D[i])\n",
        "    minStudent = i\n",
        "\n",
        "\n",
        "print(f\"Minimum Marks {mini} acheived by student {minStudent}\")\n"
      ],
      "metadata": {
        "colab": {
          "base_uri": "https://localhost:8080/"
        },
        "id": "xsZMRWFwJ1Gv",
        "outputId": "74527e0c-719b-4658-c6a3-5ca69fefeea1"
      },
      "execution_count": 140,
      "outputs": [
        {
          "output_type": "stream",
          "name": "stdout",
          "text": [
            "{'S1': [9, 29, 36, 71, 18], 'S2': [44, 54, 47, 50, 86], 'S3': [42, 95, 67, 86, 52], 'S4': [72, 17, 29, 87, 86], 'S5': [76, 21, 79, 36, 84]}\n",
            "Maximum Marks 68.4 acheived by student S3\n",
            "Minimum Marks 32.6 acheived by student S1\n"
          ]
        }
      ]
    },
    {
      "cell_type": "code",
      "source": [
        "_"
      ],
      "metadata": {
        "id": "WRYD2sKQKtp-"
      },
      "execution_count": null,
      "outputs": []
    }
  ]
}