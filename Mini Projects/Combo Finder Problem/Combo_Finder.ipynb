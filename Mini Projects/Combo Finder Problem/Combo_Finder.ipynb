{
  "nbformat": 4,
  "nbformat_minor": 0,
  "metadata": {
    "colab": {
      "provenance": []
    },
    "kernelspec": {
      "name": "python3",
      "display_name": "Python 3"
    },
    "language_info": {
      "name": "python"
    }
  },
  "cells": [
    {
      "cell_type": "markdown",
      "source": [
        "  ---\n",
        "# **ComboFinder**\n",
        "---\n",
        "####**Problem Statement:**\n",
        "Find all the list of products whose sum-of-price is between 290 and 310.\n",
        "\n",
        "ProductList = {p1:10, p2:15, p3:20, p4:25, p5:30, p6:35, p7:50}\n",
        "\n",
        "---"
      ],
      "metadata": {
        "id": "FfA216CDcNMU"
      }
    },
    {
      "cell_type": "code",
      "source": [
        "import random as r\n",
        "\n",
        "ProductList = {'p1':10, 'p2':15, 'p3':20, 'p4':25, 'p5':30, 'p6':35, 'p7':50,\n",
        "               'p8':40, 'p9':55, 'p10':60, 'p11':65, 'p12':75, 'p13':70,\n",
        "               'p14':45}\n",
        "\n",
        "lowerBound = 290\n",
        "upperBound = 310\n",
        "Result = []\n",
        "\n",
        "for i in range(1000):\n",
        "  comboSize = r.randint(2, len(ProductList))\n",
        "\n",
        "  comboList = r.sample(list(ProductList.keys()), comboSize)\n",
        "  comboList.sort()\n",
        "\n",
        "  comboSum = sum([ProductList[i] for i in comboList])\n",
        "\n",
        "  if comboSum >= lowerBound and comboSum <= upperBound:\n",
        "    Result.append(comboList)\n",
        "\n",
        "\n",
        "for r in Result:\n",
        "  print(r)\n",
        "\n",
        "print(f\"\\nTotal Sets: {len(Result)}\\n\")\n",
        "\n"
      ],
      "metadata": {
        "colab": {
          "base_uri": "https://localhost:8080/"
        },
        "id": "jTSkslh4cX8R",
        "outputId": "43820228-ad8e-41f2-a74e-8d3fb7f78659"
      },
      "execution_count": 5,
      "outputs": [
        {
          "output_type": "stream",
          "name": "stdout",
          "text": [
            "['p10', 'p11', 'p12', 'p4', 'p5', 'p7']\n",
            "['p11', 'p13', 'p14', 'p2', 'p5', 'p6', 'p7']\n",
            "['p1', 'p10', 'p12', 'p2', 'p4', 'p5', 'p7', 'p8']\n",
            "['p1', 'p10', 'p11', 'p14', 'p5', 'p6', 'p9']\n",
            "['p1', 'p10', 'p14', 'p2', 'p6', 'p7', 'p8', 'p9']\n",
            "['p10', 'p11', 'p14', 'p4', 'p5', 'p6', 'p7']\n",
            "['p1', 'p10', 'p12', 'p2', 'p3', 'p4', 'p5', 'p6', 'p8']\n",
            "['p1', 'p10', 'p14', 'p2', 'p4', 'p6', 'p7', 'p9']\n",
            "['p10', 'p11', 'p13', 'p3', 'p7', 'p8']\n",
            "['p10', 'p11', 'p12', 'p3', 'p5', 'p7']\n",
            "['p1', 'p10', 'p11', 'p14', 'p3', 'p5', 'p6', 'p8']\n",
            "['p1', 'p10', 'p14', 'p6', 'p7', 'p8', 'p9']\n",
            "['p11', 'p13', 'p14', 'p4', 'p7', 'p8']\n",
            "['p10', 'p13', 'p14', 'p3', 'p4', 'p6', 'p8']\n",
            "['p11', 'p14', 'p2', 'p3', 'p4', 'p5', 'p8', 'p9']\n",
            "['p1', 'p11', 'p13', 'p2', 'p3', 'p4', 'p5', 'p6', 'p8']\n",
            "['p11', 'p12', 'p14', 'p4', 'p6', 'p9']\n",
            "['p1', 'p11', 'p13', 'p2', 'p5', 'p7', 'p9']\n",
            "['p10', 'p13', 'p14', 'p6', 'p8', 'p9']\n",
            "['p1', 'p11', 'p12', 'p13', 'p3', 'p4', 'p5']\n",
            "['p10', 'p12', 'p13', 'p14', 'p9']\n",
            "['p1', 'p10', 'p12', 'p3', 'p4', 'p5', 'p6', 'p7']\n",
            "['p1', 'p10', 'p13', 'p14', 'p3', 'p4', 'p5', 'p8']\n",
            "['p10', 'p13', 'p2', 'p4', 'p6', 'p7', 'p8']\n",
            "['p1', 'p11', 'p14', 'p3', 'p5', 'p6', 'p7', 'p9']\n",
            "['p11', 'p14', 'p2', 'p4', 'p5', 'p6', 'p7', 'p8']\n",
            "['p1', 'p10', 'p14', 'p4', 'p5', 'p6', 'p7', 'p8']\n",
            "['p1', 'p10', 'p13', 'p3', 'p4', 'p5', 'p6', 'p9']\n",
            "['p11', 'p12', 'p14', 'p4', 'p7', 'p8']\n",
            "['p10', 'p11', 'p13', 'p2', 'p5', 'p9']\n",
            "['p1', 'p10', 'p11', 'p2', 'p3', 'p5', 'p8', 'p9']\n",
            "['p11', 'p12', 'p2', 'p7', 'p8', 'p9']\n",
            "['p11', 'p12', 'p13', 'p3', 'p4', 'p6']\n",
            "['p1', 'p13', 'p14', 'p3', 'p7', 'p8', 'p9']\n",
            "['p1', 'p10', 'p11', 'p2', 'p4', 'p5', 'p7', 'p9']\n",
            "['p10', 'p11', 'p12', 'p6', 'p9']\n",
            "['p1', 'p10', 'p12', 'p14', 'p3', 'p6', 'p7']\n",
            "['p1', 'p10', 'p13', 'p14', 'p2', 'p3', 'p5', 'p9']\n",
            "['p1', 'p10', 'p12', 'p14', 'p7', 'p9']\n",
            "['p10', 'p11', 'p12', 'p2', 'p3', 'p4', 'p7']\n",
            "['p1', 'p10', 'p11', 'p13', 'p8', 'p9']\n",
            "['p1', 'p10', 'p13', 'p3', 'p4', 'p5', 'p6', 'p7']\n",
            "['p10', 'p12', 'p3', 'p5', 'p7', 'p9']\n",
            "['p1', 'p11', 'p12', 'p13', 'p5', 'p9']\n",
            "['p1', 'p10', 'p12', 'p4', 'p6', 'p8', 'p9']\n",
            "\n",
            "Total Sets: 45\n",
            "\n"
          ]
        }
      ]
    }
  ]
}