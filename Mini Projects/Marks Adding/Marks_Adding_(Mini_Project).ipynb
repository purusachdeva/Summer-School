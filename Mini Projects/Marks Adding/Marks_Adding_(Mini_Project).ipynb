{
  "nbformat": 4,
  "nbformat_minor": 0,
  "metadata": {
    "colab": {
      "provenance": [],
      "authorship_tag": "ABX9TyMHKYKhJO0aG/JXgjniMl4i",
      "include_colab_link": true
    },
    "kernelspec": {
      "name": "python3",
      "display_name": "Python 3"
    },
    "language_info": {
      "name": "python"
    }
  },
  "cells": [
    {
      "cell_type": "markdown",
      "metadata": {
        "id": "view-in-github",
        "colab_type": "text"
      },
      "source": [
        "<a href=\"https://colab.research.google.com/github/purusachdeva/Marks-Adding_MiniProject/blob/main/Marks_Adding_(Mini_Project).ipynb\" target=\"_parent\"><img src=\"https://colab.research.google.com/assets/colab-badge.svg\" alt=\"Open In Colab\"/></a>"
      ]
    },
    {
      "cell_type": "markdown",
      "source": [
        "---\n",
        "# **Marks Adding**\n",
        "---"
      ],
      "metadata": {
        "id": "hcLm_kccqLpC"
      }
    },
    {
      "cell_type": "code",
      "source": [
        "import csv\n",
        "\n",
        "readFile = open(\"/content/Mini Project - Marks Adding.csv\", 'r')\n",
        "writeFile = open(\"/content/addedMarks.csv\", 'w')\n",
        "\n",
        "reader = csv.reader(readFile)\n",
        "writer = csv.writer(writeFile)\n",
        "\n",
        "header = next(reader)\n",
        "writer.writerow(header) \n",
        "\n",
        "newDict = {}\n",
        "\n",
        "for row in reader:\n",
        "  key = row[0]\n",
        "  value = int(row[1])\n",
        "  \n",
        "  if row[0] not in newDict:\n",
        "    newDict[key] = value\n",
        "\n",
        "  else:\n",
        "    newDict[key] += value\n",
        "\n",
        "for key,value in newDict.items():\n",
        "  writer.writerow([key, value])\n",
        "\n",
        "readFile.close()\n",
        "writeFile.close()\n",
        " "
      ],
      "metadata": {
        "id": "ILc7nH9nsTWq"
      },
      "execution_count": null,
      "outputs": []
    }
  ]
}