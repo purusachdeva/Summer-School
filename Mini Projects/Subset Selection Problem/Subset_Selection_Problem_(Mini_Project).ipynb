{
  "nbformat": 4,
  "nbformat_minor": 0,
  "metadata": {
    "colab": {
      "provenance": []
    },
    "kernelspec": {
      "name": "python3",
      "display_name": "Python 3"
    },
    "language_info": {
      "name": "python"
    }
  },
  "cells": [
    {
      "cell_type": "markdown",
      "source": [
        "  ---\n",
        "# **Subset Selection Problem**\n",
        "---\n",
        "####**1. Problem Statement:**\n",
        "Find all the subsets from a set of numbers whose sum is zero.\n",
        "\n",
        "####**Constraint: Subset size must be 5**\n",
        "Set={-12, -3, -6, 7, 2, -2, 6, 3, 9, -7, -5, -8, 1, 11, -9, -4}\n",
        "\n",
        "---"
      ],
      "metadata": {
        "id": "PA-dZc-xS2z8"
      }
    },
    {
      "cell_type": "code",
      "source": [
        "import random as r\n",
        "\n",
        "Set = [-12, -3, -6, 7, 2, -2, 6, 3, 9, -7, -5, -8, 1, 11, -9, -4]\n",
        "ResultList = []\n",
        "\n",
        "for i in range(1000):\n",
        "  subset = r.sample(Set, 5)\n",
        "  subset.sort()\n",
        "  if sum(subset) == 0:\n",
        "    ResultList.append(subset)\n",
        "  \n",
        "\n",
        "for r in ResultList:\n",
        "  print(r)\n",
        "\n",
        "print(f\"\\nTotal Sets: {len(ResultList)} \\n\")"
      ],
      "metadata": {
        "colab": {
          "base_uri": "https://localhost:8080/"
        },
        "id": "5BP9W_UUNwGL",
        "outputId": "a6e44f19-6ce2-4a6e-bd74-91c554266948"
      },
      "execution_count": 7,
      "outputs": [
        {
          "output_type": "stream",
          "name": "stdout",
          "text": [
            "[-7, -4, -3, 3, 11]\n",
            "[-7, -4, -3, 3, 11]\n",
            "[-4, -2, 1, 2, 3]\n",
            "[-12, -5, -3, 9, 11]\n",
            "[-9, -2, 1, 3, 7]\n",
            "[-7, -3, 1, 3, 6]\n",
            "[-9, -7, 2, 3, 11]\n",
            "[-6, -4, 1, 3, 6]\n",
            "[-5, -4, -2, 2, 9]\n",
            "[-12, -2, 1, 6, 7]\n",
            "[-7, -4, 2, 3, 6]\n",
            "[-8, -7, -2, 6, 11]\n",
            "[-8, -7, 2, 6, 7]\n",
            "[-8, -6, 1, 6, 7]\n",
            "[-7, -4, -2, 6, 7]\n",
            "[-8, -3, 2, 3, 6]\n",
            "[-6, -4, -2, 3, 9]\n",
            "[-8, -6, -3, 6, 11]\n",
            "[-8, -4, 1, 2, 9]\n",
            "[-5, -4, -3, 1, 11]\n",
            "[-6, -4, -3, 6, 7]\n",
            "[-9, -5, 1, 2, 11]\n",
            "[-7, -3, 1, 3, 6]\n",
            "[-7, -5, 1, 2, 9]\n",
            "\n",
            "Total Sets: 24 \n",
            "\n"
          ]
        }
      ]
    },
    {
      "cell_type": "markdown",
      "source": [
        "---\n",
        "####**2. Problem Statement:**\n",
        "Find all the subsets from a set of numbers whose sum is zero.\n",
        "\n",
        "####**Constraint: Subset size must be 3 to 6 only**\n",
        "Set={-12, -3, -6, 7, 2, -2, 6, 3, 9, -7, -5, -8, 1, 11, -9, -4}\n",
        "\n",
        "---"
      ],
      "metadata": {
        "id": "AApzBBq4OdkO"
      }
    },
    {
      "cell_type": "code",
      "source": [
        "import random as r\n",
        "\n",
        "Set = [-12, -3, -6, 7, 2, -2, 6, 3, 9, -7, -5, -8, 1, 11, -9, -4]\n",
        "ResultList = []\n",
        "\n",
        "for i in range(1000):\n",
        "  subset = r.sample(Set, r.randint(3,6))\n",
        "  subset.sort()\n",
        "  if sum(subset) == 0:\n",
        "    ResultList.append(subset)\n",
        "  \n",
        "\n",
        "for r in ResultList:\n",
        "  print(r)\n",
        "\n",
        "print(f\"\\nTotal Sets: {len(ResultList)} \\n\")"
      ],
      "metadata": {
        "colab": {
          "base_uri": "https://localhost:8080/"
        },
        "id": "EYYyZVJ-PSSY",
        "outputId": "34a75f74-ccb6-45a8-ed08-22d72cfbe053"
      },
      "execution_count": 8,
      "outputs": [
        {
          "output_type": "stream",
          "name": "stdout",
          "text": [
            "[-6, -4, -3, 6, 7]\n",
            "[-9, -2, 2, 9]\n",
            "[-6, -2, 2, 6]\n",
            "[-8, 1, 7]\n",
            "[-8, -2, 1, 9]\n",
            "[-8, -3, -2, 2, 11]\n",
            "[-12, -8, -7, 7, 9, 11]\n",
            "[-7, -4, 11]\n",
            "[-5, 2, 3]\n",
            "[-8, -6, 1, 6, 7]\n",
            "[-12, -9, 1, 2, 7, 11]\n",
            "[-12, 2, 3, 7]\n",
            "[-9, -2, 11]\n",
            "[-5, -4, 9]\n",
            "[-4, -2, 6]\n",
            "[-3, 1, 2]\n",
            "[-8, -3, 1, 3, 7]\n",
            "[-9, -8, -3, 9, 11]\n",
            "[-5, -4, -3, 1, 2, 9]\n",
            "[-7, -6, -4, 2, 6, 9]\n",
            "[-5, 2, 3]\n",
            "[-12, -6, 7, 11]\n",
            "[-4, -2, 6]\n",
            "[-6, -4, -2, 3, 9]\n",
            "[-5, -4, 9]\n",
            "[-7, -5, -4, 7, 9]\n",
            "[-7, 1, 6]\n",
            "[-5, -2, 1, 6]\n",
            "[-8, -7, 1, 3, 11]\n",
            "[-8, -7, -3, 3, 6, 9]\n",
            "[-5, 2, 3]\n",
            "\n",
            "Total Sets: 31 \n",
            "\n"
          ]
        }
      ]
    }
  ]
}